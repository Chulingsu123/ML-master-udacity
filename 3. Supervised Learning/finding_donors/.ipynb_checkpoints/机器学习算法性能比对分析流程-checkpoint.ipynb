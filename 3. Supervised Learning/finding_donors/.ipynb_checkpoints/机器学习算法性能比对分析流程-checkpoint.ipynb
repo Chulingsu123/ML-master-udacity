{
 "cells": [
  {
   "cell_type": "markdown",
   "metadata": {},
   "source": [
    "# 机器学习算法性能比对分析流程"
   ]
  },
  {
   "cell_type": "markdown",
   "metadata": {},
   "source": [
    "写这篇文章的初衷是受到优达学城“机器学习纳米学位（进阶）”课程中“finding donors”项目的启发。主要是梳理比对不同的机器学习算法的流程。\n",
    "\n",
    "本文章使用的数据集是“Census Income Data Set”，来自[UCI Machine Learning Repository](https://archive.ics.uci.edu/ml/datasets/Census+Income)。我们的目标是使用多种机器学习算法预测收入，具体来说，预测一个人的收入是否超过50000美金.\n",
    "\n",
    "本文所有代码均在jupyter notebook上运行通过，使用的python版本是2.7.14"
   ]
  },
  {
   "cell_type": "markdown",
   "metadata": {},
   "source": [
    "## 目录\n",
    "\n",
    "1. 探索数据\n",
    "2. 准备数据\n",
    "3. 评估模型性能\n",
    "4. 改进结果\n",
    "5. 特征重要性\n",
    "6. 特征选择"
   ]
  },
  {
   "cell_type": "markdown",
   "metadata": {},
   "source": [
    "## 1. 探索数据"
   ]
  },
  {
   "cell_type": "code",
   "execution_count": null,
   "metadata": {},
   "outputs": [],
   "source": []
  },
  {
   "cell_type": "markdown",
   "metadata": {},
   "source": [
    "\n",
    "\n",
    "https://archive.ics.uci.edu/ml/datasets/Census+Income\n",
    "\n",
    "### 1.1 数据初探\n",
    "\n",
    "## 2. 准备数据\n",
    "### 2.1 转换偏差的连续特征\n",
    "### 2.2 正则化数值特征\n",
    "### 2.3 数据预处理\n",
    "### 2.4 随机采样和和分割数据\n",
    "\n",
    "## 3. 评估模型性能\n",
    "### 3.1 测量指标和朴素分类器\n",
    "### 3.2 模型选择\n",
    "### 3.3 模型应用\n",
    "### 3.4 打造训练和预测的处理流程\n",
    "### 3.5 初始模型评估\n",
    "\n",
    "## 4. 改进结果\n",
    "### 4.1 选择最好的模型\n",
    "### 4.2 模型参数调优\n",
    "\n",
    "## 5. 特征重要性\n",
    "### 5.1 提取特征的重要性\n",
    "\n",
    "## 6. 特征选择\n",
    "\n",
    "\n"
   ]
  }
 ],
 "metadata": {
  "kernelspec": {
   "display_name": "Python [conda env:py2]",
   "language": "python",
   "name": "conda-env-py2-py"
  },
  "language_info": {
   "codemirror_mode": {
    "name": "ipython",
    "version": 2
   },
   "file_extension": ".py",
   "mimetype": "text/x-python",
   "name": "python",
   "nbconvert_exporter": "python",
   "pygments_lexer": "ipython2",
   "version": "2.7.14"
  }
 },
 "nbformat": 4,
 "nbformat_minor": 2
}
